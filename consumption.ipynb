{
 "cells": [
  {
   "cell_type": "code",
   "execution_count": 6,
   "id": "8a683dd3",
   "metadata": {},
   "outputs": [],
   "source": [
    "import numpy as np\n",
    "import pandas as pd\n",
    "import os"
   ]
  },
  {
   "cell_type": "code",
   "execution_count": 8,
   "id": "7d8e335f",
   "metadata": {},
   "outputs": [
    {
     "name": "stdout",
     "output_type": "stream",
     "text": [
      "['consumption_pyramids_20170131_MS_rev.csv', 'consumption_pyramids_20170228_MS_rev.csv', 'consumption_pyramids_20170331_MS_rev.csv', 'consumption_pyramids_20170430_MS_rev.csv', 'consumption_pyramids_20170531_MS_rev.csv', 'consumption_pyramids_20170630_MS_rev.csv', 'consumption_pyramids_20170731_MS_rev.csv', 'consumption_pyramids_20170831_MS_rev.csv', 'consumption_pyramids_20170930_MS_rev.csv', 'consumption_pyramids_20171031_MS_rev.csv', 'consumption_pyramids_20171130_MS_rev.csv', 'consumption_pyramids_20171231_MS_rev.csv', 'consumption_pyramids_20180131_MS_rev.csv', 'consumption_pyramids_20180228_MS_rev.csv', 'consumption_pyramids_20180331_MS_rev.csv', 'consumption_pyramids_20180430_MS_rev.csv', 'consumption_pyramids_20180531_MS_rev.csv', 'consumption_pyramids_20180630_MS_rev.csv', 'consumption_pyramids_20180731_MS_rev.csv', 'consumption_pyramids_20180831_MS_rev.csv', 'consumption_pyramids_20180930_MS_rev.csv', 'consumption_pyramids_20181031_MS_rev.csv', 'consumption_pyramids_20181130_MS_rev.csv', 'consumption_pyramids_20181231_MS_rev.csv', 'consumption_pyramids_20190131_MS_rev.csv', 'consumption_pyramids_20190228_MS_rev.csv', 'consumption_pyramids_20190331_MS_rev.csv', 'consumption_pyramids_20190430_MS_rev.csv', 'consumption_pyramids_20190531_MS_rev.csv', 'consumption_pyramids_20190630_MS_rev.csv', 'consumption_pyramids_20190731_MS_rev.csv', 'consumption_pyramids_20190831_MS_rev.csv', 'consumption_pyramids_20190930_MS_rev.csv', 'consumption_pyramids_20191031_MS_rev.csv', 'consumption_pyramids_20191130_MS_rev.csv', 'consumption_pyramids_20191231_MS_rev.csv', 'consumption_pyramids_20200131_MS_rev.csv', 'consumption_pyramids_20200229_MS_rev.csv', 'consumption_pyramids_20200331_MS_rev.csv', 'consumption_pyramids_20200430_MS_rev.csv', 'consumption_pyramids_20200531_MS_rev.csv', 'consumption_pyramids_20200630_MS_rev.csv', 'consumption_pyramids_20200731_MS_rev.csv', 'consumption_pyramids_20200831_MS_rev.csv', 'consumption_pyramids_20200930_MS_rev.csv', 'consumption_pyramids_20201031_MS_rev.csv', 'consumption_pyramids_20201130_MS_rev.csv', 'consumption_pyramids_20201231_MS_rev.csv', 'consumption_pyramids_20210131_MS_rev.csv', 'consumption_pyramids_20210228_MS_rev.csv', 'consumption_pyramids_20210331_MS_rev.csv', 'consumption_pyramids_20210430_MS_rev.csv', 'consumption_pyramids_20210531_MS_rev.csv', 'consumption_pyramids_20210630_MS_rev.csv', 'consumption_pyramids_20210731_MS_rev.csv', 'consumption_pyramids_20210831_MS_rev.csv', 'consumption_pyramids_20210930_MS_rev.csv', 'consumption_pyramids_20211031_MS_rev.csv', 'consumption_pyramids_20211130_MS_rev.csv', 'consumption_pyramids_20211231_MS_rev.csv', 'consumption_pyramids_20220131_MS_rev.csv', 'consumption_pyramids_20220228_MS_rev.csv', 'consumption_pyramids_20220331_MS_rev.csv', 'consumption_pyramids_20220430_MS_rev.csv', 'consumption_pyramids_20220531_MS_rev.csv', 'consumption_pyramids_20220630_MS_rev.csv', 'consumption_pyramids_20220731_MS_rev.csv', 'consumption_pyramids_20220831_MS_rev.csv', 'consumption_pyramids_20220930_MS_rev.csv', 'consumption_pyramids_20221031_MS_rev.csv', 'consumption_pyramids_20221130_MS_rev.csv', 'consumption_pyramids_20221231_MS_rev.csv']\n"
     ]
    }
   ],
   "source": [
    "path=\"C:\\\\Users\\\\anany\\\\Documents\\\\researchIntern23\\\\consumption_pyramids\"\n",
    "dir_list = os.listdir(path)\n",
    "print(dir_list)"
   ]
  },
  {
   "cell_type": "code",
   "execution_count": 9,
   "id": "535a325d",
   "metadata": {
    "scrolled": true
   },
   "outputs": [
    {
     "name": "stdout",
     "output_type": "stream",
     "text": [
      "72\n"
     ]
    }
   ],
   "source": [
    "df=[]\n",
    "for i in dir_list:\n",
    "    df_i=pd.read_csv(path+\"\\\\\"+i)\n",
    "    df.append(df_i)\n",
    "print(len(df))"
   ]
  },
  {
   "cell_type": "code",
   "execution_count": 11,
   "id": "f562f9f1",
   "metadata": {},
   "outputs": [],
   "source": [
    "for i in range(72):\n",
    "    for j in range(72):\n",
    "        df[i] = df[i].drop(labels=df[i].loc[~df[i]['HH_ID'].isin(df[j]['HH_ID'].tolist())].index)"
   ]
  },
  {
   "cell_type": "code",
   "execution_count": 12,
   "id": "1372fa57",
   "metadata": {},
   "outputs": [],
   "source": [
    "for i in range(72):\n",
    "    df[i] = df[i].loc[df[i]['STATE'] == 'West Bengal' ]"
   ]
  },
  {
   "cell_type": "code",
   "execution_count": 14,
   "id": "fa5da450",
   "metadata": {},
   "outputs": [
    {
     "name": "stdout",
     "output_type": "stream",
     "text": [
      "52 : ADJ_MONTHLY_EXPENSE_ON_VEGETABLES_AND_FRUITS\n",
      "52 : MONTHLY_EXPENSE_ON_SPECTACLES_CONTACT_LENSES_AND_OTHER_MEDICAL_AIDS\n",
      "52 : MONTHLY_EXPENSE_ON_BATTERIES\n",
      "53 : ADJ_MONTHLY_EXPENSE_ON_VEGETABLES_AND_FRUITS\n",
      "53 : MONTHLY_EXPENSE_ON_SPECTACLES_CONTACT_LENSES_AND_OTHER_MEDICAL_AIDS\n",
      "53 : MONTHLY_EXPENSE_ON_BATTERIES\n",
      "54 : ADJ_MONTHLY_EXPENSE_ON_VEGETABLES_AND_FRUITS\n",
      "54 : MONTHLY_EXPENSE_ON_SPECTACLES_CONTACT_LENSES_AND_OTHER_MEDICAL_AIDS\n",
      "54 : MONTHLY_EXPENSE_ON_BATTERIES\n",
      "55 : ADJ_MONTHLY_EXPENSE_ON_VEGETABLES_AND_FRUITS\n",
      "55 : MONTHLY_EXPENSE_ON_SPECTACLES_CONTACT_LENSES_AND_OTHER_MEDICAL_AIDS\n",
      "55 : MONTHLY_EXPENSE_ON_BATTERIES\n",
      "56 : ADJ_MONTHLY_EXPENSE_ON_VEGETABLES_AND_FRUITS\n",
      "56 : MONTHLY_EXPENSE_ON_SPECTACLES_CONTACT_LENSES_AND_OTHER_MEDICAL_AIDS\n",
      "56 : MONTHLY_EXPENSE_ON_BATTERIES\n",
      "57 : ADJ_MONTHLY_EXPENSE_ON_VEGETABLES_AND_FRUITS\n",
      "57 : MONTHLY_EXPENSE_ON_SPECTACLES_CONTACT_LENSES_AND_OTHER_MEDICAL_AIDS\n",
      "57 : MONTHLY_EXPENSE_ON_BATTERIES\n",
      "58 : ADJ_MONTHLY_EXPENSE_ON_VEGETABLES_AND_FRUITS\n",
      "58 : MONTHLY_EXPENSE_ON_SPECTACLES_CONTACT_LENSES_AND_OTHER_MEDICAL_AIDS\n",
      "58 : MONTHLY_EXPENSE_ON_BATTERIES\n",
      "59 : ADJ_MONTHLY_EXPENSE_ON_VEGETABLES_AND_FRUITS\n",
      "59 : MONTHLY_EXPENSE_ON_SPECTACLES_CONTACT_LENSES_AND_OTHER_MEDICAL_AIDS\n",
      "59 : MONTHLY_EXPENSE_ON_BATTERIES\n",
      "60 : ADJ_MONTHLY_EXPENSE_ON_VEGETABLES_AND_FRUITS\n",
      "60 : MONTHLY_EXPENSE_ON_MEAT\n",
      "60 : ADJ_MONTHLY_EXPENSE_ON_MEAT\n",
      "60 : MONTHLY_EXPENSE_ON_FISH\n",
      "60 : ADJ_MONTHLY_EXPENSE_ON_FISH\n",
      "60 : MONTHLY_EXPENSE_ON_OTT\n",
      "60 : MONTHLY_EXPENSE_ON_SPECTACLES_CONTACT_LENSES_AND_OTHER_MEDICAL_AIDS\n",
      "60 : MONTHLY_EXPENSE_ON_BATTERIES\n",
      "61 : ADJ_MONTHLY_EXPENSE_ON_VEGETABLES_AND_FRUITS\n",
      "61 : MONTHLY_EXPENSE_ON_MEAT\n",
      "61 : ADJ_MONTHLY_EXPENSE_ON_MEAT\n",
      "61 : MONTHLY_EXPENSE_ON_FISH\n",
      "61 : ADJ_MONTHLY_EXPENSE_ON_FISH\n",
      "61 : MONTHLY_EXPENSE_ON_OTT\n",
      "61 : MONTHLY_EXPENSE_ON_SPECTACLES_CONTACT_LENSES_AND_OTHER_MEDICAL_AIDS\n",
      "61 : MONTHLY_EXPENSE_ON_BATTERIES\n",
      "62 : ADJ_MONTHLY_EXPENSE_ON_VEGETABLES_AND_FRUITS\n",
      "62 : MONTHLY_EXPENSE_ON_MEAT\n",
      "62 : ADJ_MONTHLY_EXPENSE_ON_MEAT\n",
      "62 : MONTHLY_EXPENSE_ON_FISH\n",
      "62 : ADJ_MONTHLY_EXPENSE_ON_FISH\n",
      "62 : MONTHLY_EXPENSE_ON_OTT\n",
      "62 : MONTHLY_EXPENSE_ON_SPECTACLES_CONTACT_LENSES_AND_OTHER_MEDICAL_AIDS\n",
      "62 : MONTHLY_EXPENSE_ON_BATTERIES\n",
      "63 : ADJ_MONTHLY_EXPENSE_ON_VEGETABLES_AND_FRUITS\n",
      "63 : MONTHLY_EXPENSE_ON_MEAT\n",
      "63 : ADJ_MONTHLY_EXPENSE_ON_MEAT\n",
      "63 : MONTHLY_EXPENSE_ON_FISH\n",
      "63 : ADJ_MONTHLY_EXPENSE_ON_FISH\n",
      "63 : MONTHLY_EXPENSE_ON_OTT\n",
      "63 : MONTHLY_EXPENSE_ON_SPECTACLES_CONTACT_LENSES_AND_OTHER_MEDICAL_AIDS\n",
      "63 : MONTHLY_EXPENSE_ON_BATTERIES\n"
     ]
    }
   ],
   "source": [
    "column_names = df[0].columns.values.tolist()\n",
    "for i in range(-12,0):\n",
    "    for elem in df[i].columns.values.tolist():\n",
    "        if elem not in column_names:\n",
    "            print(64+i,\":\",elem)\n",
    "            df[i].drop(elem,axis=1,inplace=True)"
   ]
  },
  {
   "cell_type": "code",
   "execution_count": 15,
   "id": "c905f8bc",
   "metadata": {},
   "outputs": [
    {
     "name": "stdout",
     "output_type": "stream",
     "text": [
      "(9615, 211)\n",
      "(9615, 211)\n",
      "(9615, 211)\n",
      "(9615, 211)\n",
      "(9615, 211)\n",
      "(9615, 211)\n",
      "(9615, 211)\n",
      "(9615, 211)\n",
      "(9615, 211)\n",
      "(9615, 211)\n",
      "(9615, 211)\n",
      "(9615, 211)\n",
      "(9615, 211)\n",
      "(9615, 211)\n",
      "(9615, 211)\n",
      "(9615, 211)\n",
      "(9615, 211)\n",
      "(9615, 211)\n",
      "(9615, 211)\n",
      "(9615, 211)\n",
      "(9615, 211)\n",
      "(9615, 211)\n",
      "(9615, 211)\n",
      "(9615, 211)\n",
      "(9615, 211)\n",
      "(9615, 211)\n",
      "(9615, 211)\n",
      "(9615, 211)\n",
      "(9615, 211)\n",
      "(9615, 211)\n",
      "(9615, 211)\n",
      "(9615, 211)\n",
      "(9615, 211)\n",
      "(9615, 211)\n",
      "(9615, 211)\n",
      "(9615, 211)\n",
      "(9615, 211)\n",
      "(9615, 211)\n",
      "(9615, 211)\n",
      "(9615, 211)\n",
      "(9615, 211)\n",
      "(9615, 211)\n",
      "(9615, 211)\n",
      "(9615, 211)\n",
      "(9615, 211)\n",
      "(9615, 211)\n",
      "(9615, 211)\n",
      "(9615, 211)\n",
      "(9615, 211)\n",
      "(9615, 211)\n",
      "(9615, 211)\n",
      "(9615, 211)\n",
      "(9615, 211)\n",
      "(9615, 211)\n",
      "(9615, 211)\n",
      "(9615, 211)\n",
      "(9615, 211)\n",
      "(9615, 211)\n",
      "(9615, 211)\n",
      "(9615, 211)\n",
      "(9615, 211)\n",
      "(9615, 211)\n",
      "(9615, 211)\n",
      "(9615, 211)\n",
      "(9615, 211)\n",
      "(9615, 211)\n",
      "(9615, 211)\n",
      "(9615, 211)\n",
      "(9615, 211)\n",
      "(9615, 211)\n",
      "(9615, 211)\n",
      "(9615, 211)\n"
     ]
    },
    {
     "data": {
      "text/plain": [
       "692280"
      ]
     },
     "execution_count": 15,
     "metadata": {},
     "output_type": "execute_result"
    }
   ],
   "source": [
    "sum=0\n",
    "for i in range(72):\n",
    "    print(df[i].shape)\n",
    "    sum+=df[i].shape[0]\n",
    "sum"
   ]
  },
  {
   "cell_type": "code",
   "execution_count": 16,
   "id": "1d007e1b",
   "metadata": {},
   "outputs": [
    {
     "data": {
      "text/plain": [
       "(692280, 211)"
      ]
     },
     "execution_count": 16,
     "metadata": {},
     "output_type": "execute_result"
    }
   ],
   "source": [
    "df_final  = pd.concat(df, ignore_index=True)\n",
    "df_final.shape"
   ]
  },
  {
   "cell_type": "code",
   "execution_count": 4,
   "id": "6adf4d0d",
   "metadata": {},
   "outputs": [],
   "source": [
    "df_cpanel=pd.read_csv(\"Consumptional_panel.csv\")"
   ]
  },
  {
   "cell_type": "code",
   "execution_count": 17,
   "id": "c2c079e9",
   "metadata": {},
   "outputs": [
    {
     "data": {
      "text/plain": [
       "(632898, 212)"
      ]
     },
     "execution_count": 17,
     "metadata": {},
     "output_type": "execute_result"
    }
   ],
   "source": []
  },
  {
   "cell_type": "code",
   "execution_count": 19,
   "id": "3a0cbbf2",
   "metadata": {},
   "outputs": [],
   "source": [
    "df_final.to_csv(\"Consumptional_panel.csv\")"
   ]
  },
  {
   "cell_type": "code",
   "execution_count": null,
   "id": "cc370f02",
   "metadata": {},
   "outputs": [],
   "source": []
  }
 ],
 "metadata": {
  "kernelspec": {
   "display_name": "Python 3 (ipykernel)",
   "language": "python",
   "name": "python3"
  },
  "language_info": {
   "codemirror_mode": {
    "name": "ipython",
    "version": 3
   },
   "file_extension": ".py",
   "mimetype": "text/x-python",
   "name": "python",
   "nbconvert_exporter": "python",
   "pygments_lexer": "ipython3",
   "version": "3.10.9"
  }
 },
 "nbformat": 4,
 "nbformat_minor": 5
}
